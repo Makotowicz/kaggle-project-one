{
 "cells": [
  {
   "cell_type": "code",
   "execution_count": 189,
   "id": "4411ce28",
   "metadata": {},
   "outputs": [],
   "source": [
    "import pandas as pd\n",
    "import numpy as np\n",
    "\n",
    "import re\n",
    "import nltk\n",
    "import string\n",
    "\n",
    "from nltk.corpus import stopwords\n",
    "from collections import Counter\n",
    "from nltk.stem import WordNetLemmatizer\n",
    "from spellchecker import SpellChecker\n",
    "\n",
    "import matplotlib.pyplot as plt\n",
    "import seaborn as sns\n",
    "import pylab as pl\n",
    "\n",
    "from sklearn.feature_extraction.text import CountVectorizer \n",
    "vectorizer = CountVectorizer() \n",
    "vectorizer2 = CountVectorizer(analyzer='word', ngram_range=(2, 2))\n",
    "\n",
    "from sklearn.feature_extraction.text import TfidfTransformer\n",
    "transformer = TfidfTransformer()\n",
    "\n",
    "from sklearn.naive_bayes import MultinomialNB\n",
    "classifier = MultinomialNB()\n",
    "\n",
    "from sklearn.pipeline import Pipeline\n",
    "\n",
    "from sklearn.model_selection import train_test_split"
   ]
  },
  {
   "cell_type": "code",
   "execution_count": 164,
   "id": "ef4b1b08",
   "metadata": {},
   "outputs": [],
   "source": [
    "persuasive = pd.read_csv('~/.kaggle/feedback-prize-effectiveness/train.csv')"
   ]
  },
  {
   "cell_type": "markdown",
   "id": "ff5e9731",
   "metadata": {},
   "source": [
    "**first look at data, looks like every body of text is written in different style and servse a different function.**"
   ]
  },
  {
   "cell_type": "code",
   "execution_count": 165,
   "id": "e951b705",
   "metadata": {},
   "outputs": [
    {
     "data": {
      "text/html": [
       "<div>\n",
       "<style scoped>\n",
       "    .dataframe tbody tr th:only-of-type {\n",
       "        vertical-align: middle;\n",
       "    }\n",
       "\n",
       "    .dataframe tbody tr th {\n",
       "        vertical-align: top;\n",
       "    }\n",
       "\n",
       "    .dataframe thead th {\n",
       "        text-align: right;\n",
       "    }\n",
       "</style>\n",
       "<table border=\"1\" class=\"dataframe\">\n",
       "  <thead>\n",
       "    <tr style=\"text-align: right;\">\n",
       "      <th></th>\n",
       "      <th>discourse_id</th>\n",
       "      <th>essay_id</th>\n",
       "      <th>discourse_text</th>\n",
       "      <th>discourse_type</th>\n",
       "      <th>discourse_effectiveness</th>\n",
       "    </tr>\n",
       "  </thead>\n",
       "  <tbody>\n",
       "    <tr>\n",
       "      <th>0</th>\n",
       "      <td>0013cc385424</td>\n",
       "      <td>007ACE74B050</td>\n",
       "      <td>Hi, i'm Isaac, i'm going to be writing about h...</td>\n",
       "      <td>Lead</td>\n",
       "      <td>Adequate</td>\n",
       "    </tr>\n",
       "    <tr>\n",
       "      <th>1</th>\n",
       "      <td>9704a709b505</td>\n",
       "      <td>007ACE74B050</td>\n",
       "      <td>On my perspective, I think that the face is a ...</td>\n",
       "      <td>Position</td>\n",
       "      <td>Adequate</td>\n",
       "    </tr>\n",
       "    <tr>\n",
       "      <th>2</th>\n",
       "      <td>c22adee811b6</td>\n",
       "      <td>007ACE74B050</td>\n",
       "      <td>I think that the face is a natural landform be...</td>\n",
       "      <td>Claim</td>\n",
       "      <td>Adequate</td>\n",
       "    </tr>\n",
       "    <tr>\n",
       "      <th>3</th>\n",
       "      <td>a10d361e54e4</td>\n",
       "      <td>007ACE74B050</td>\n",
       "      <td>If life was on Mars, we would know by now. The...</td>\n",
       "      <td>Evidence</td>\n",
       "      <td>Adequate</td>\n",
       "    </tr>\n",
       "    <tr>\n",
       "      <th>4</th>\n",
       "      <td>db3e453ec4e2</td>\n",
       "      <td>007ACE74B050</td>\n",
       "      <td>People thought that the face was formed by ali...</td>\n",
       "      <td>Counterclaim</td>\n",
       "      <td>Adequate</td>\n",
       "    </tr>\n",
       "    <tr>\n",
       "      <th>5</th>\n",
       "      <td>36a565e45db7</td>\n",
       "      <td>007ACE74B050</td>\n",
       "      <td>though some say that life on Mars does exist, ...</td>\n",
       "      <td>Rebuttal</td>\n",
       "      <td>Ineffective</td>\n",
       "    </tr>\n",
       "    <tr>\n",
       "      <th>6</th>\n",
       "      <td>fb65fe816ba3</td>\n",
       "      <td>007ACE74B050</td>\n",
       "      <td>It says in paragraph 7, on April 5, 1998, Mars...</td>\n",
       "      <td>Evidence</td>\n",
       "      <td>Adequate</td>\n",
       "    </tr>\n",
       "    <tr>\n",
       "      <th>7</th>\n",
       "      <td>4e472e2584fa</td>\n",
       "      <td>007ACE74B050</td>\n",
       "      <td>Everyone who thought it was made by alieans ev...</td>\n",
       "      <td>Counterclaim</td>\n",
       "      <td>Adequate</td>\n",
       "    </tr>\n",
       "    <tr>\n",
       "      <th>8</th>\n",
       "      <td>28a94d3ee425</td>\n",
       "      <td>007ACE74B050</td>\n",
       "      <td>Though people were not satified about how the ...</td>\n",
       "      <td>Concluding Statement</td>\n",
       "      <td>Adequate</td>\n",
       "    </tr>\n",
       "    <tr>\n",
       "      <th>9</th>\n",
       "      <td>d226f06362f5</td>\n",
       "      <td>00944C693682</td>\n",
       "      <td>Limiting the usage of cars has personal and pr...</td>\n",
       "      <td>Lead</td>\n",
       "      <td>Effective</td>\n",
       "    </tr>\n",
       "  </tbody>\n",
       "</table>\n",
       "</div>"
      ],
      "text/plain": [
       "   discourse_id      essay_id  \\\n",
       "0  0013cc385424  007ACE74B050   \n",
       "1  9704a709b505  007ACE74B050   \n",
       "2  c22adee811b6  007ACE74B050   \n",
       "3  a10d361e54e4  007ACE74B050   \n",
       "4  db3e453ec4e2  007ACE74B050   \n",
       "5  36a565e45db7  007ACE74B050   \n",
       "6  fb65fe816ba3  007ACE74B050   \n",
       "7  4e472e2584fa  007ACE74B050   \n",
       "8  28a94d3ee425  007ACE74B050   \n",
       "9  d226f06362f5  00944C693682   \n",
       "\n",
       "                                      discourse_text        discourse_type  \\\n",
       "0  Hi, i'm Isaac, i'm going to be writing about h...                  Lead   \n",
       "1  On my perspective, I think that the face is a ...              Position   \n",
       "2  I think that the face is a natural landform be...                 Claim   \n",
       "3  If life was on Mars, we would know by now. The...              Evidence   \n",
       "4  People thought that the face was formed by ali...          Counterclaim   \n",
       "5  though some say that life on Mars does exist, ...              Rebuttal   \n",
       "6  It says in paragraph 7, on April 5, 1998, Mars...              Evidence   \n",
       "7  Everyone who thought it was made by alieans ev...          Counterclaim   \n",
       "8  Though people were not satified about how the ...  Concluding Statement   \n",
       "9  Limiting the usage of cars has personal and pr...                  Lead   \n",
       "\n",
       "  discourse_effectiveness  \n",
       "0                Adequate  \n",
       "1                Adequate  \n",
       "2                Adequate  \n",
       "3                Adequate  \n",
       "4                Adequate  \n",
       "5             Ineffective  \n",
       "6                Adequate  \n",
       "7                Adequate  \n",
       "8                Adequate  \n",
       "9               Effective  "
      ]
     },
     "execution_count": 165,
     "metadata": {},
     "output_type": "execute_result"
    }
   ],
   "source": [
    "persuasive.head(10) "
   ]
  },
  {
   "cell_type": "markdown",
   "id": "1fb1a0f7",
   "metadata": {},
   "source": [
    "**I suspect that all texts have different rules regarding length and perhaps emotional affect, depending on their \"type\"**"
   ]
  },
  {
   "cell_type": "code",
   "execution_count": 166,
   "id": "e5564049",
   "metadata": {},
   "outputs": [
    {
     "data": {
      "text/plain": [
       "array(['Lead', 'Position', 'Claim', 'Evidence', 'Counterclaim',\n",
       "       'Rebuttal', 'Concluding Statement'], dtype=object)"
      ]
     },
     "execution_count": 166,
     "metadata": {},
     "output_type": "execute_result"
    }
   ],
   "source": [
    "persuasive['discourse_type'].unique()"
   ]
  },
  {
   "cell_type": "markdown",
   "id": "588ba6db",
   "metadata": {},
   "source": [
    "**comparing 2 \"lead\" type texts, the one graded higher seems more professional. It seems also more better supported by arguments vs more \"opinion-like\" opener.**"
   ]
  },
  {
   "cell_type": "code",
   "execution_count": 167,
   "id": "4ee84c25",
   "metadata": {
    "scrolled": true
   },
   "outputs": [
    {
     "name": "stdout",
     "output_type": "stream",
     "text": [
      "Hi, i'm Isaac, i'm going to be writing about how this face on Mars is a natural landform or if there is life on Mars that made it. The story is about how NASA took a picture of Mars and a face was seen on the planet. NASA doesn't know if the landform was created by life on Mars, or if it is just a natural landform. \n",
      "\n",
      "\n",
      "Limiting the usage of cars has personal and professional support all across the globe and yet it has yet to be embraced everywhere. Statistical proof show where it may help and real life examples of some of the effects of reducing, or getting rid of altogether, cars in one's daily life. While \"recent studies suggest that Americans are buying fewer cars, driving less and getting fewer licenses as each year goes by\" (Source 4), is that really enough or for the right reason? There are plenty of reasons to stop, or limit, the amount of cars being driven on the roads for every kind of person, from the hippie to the businessman, from the mom to the college student. \n"
     ]
    }
   ],
   "source": [
    "print(persuasive.discourse_text[0])\n",
    "print('\\n')\n",
    "print(persuasive.discourse_text[9])"
   ]
  },
  {
   "cell_type": "markdown",
   "id": "deeb92f1",
   "metadata": {},
   "source": [
    "**first thing I wanted to do was clean and tokenize the text for later. To do that I have changed all text to lowercase, removed punctuation and stopwords. Afterwards I've lemmitized the remaining text and split it into individual words."
   ]
  },
  {
   "cell_type": "code",
   "execution_count": 168,
   "id": "863ef118",
   "metadata": {},
   "outputs": [],
   "source": [
    "persuasive['discourse_text_processed'] = persuasive['discourse_text'].str.lower()\n",
    "\n",
    "def remove_punctuation(text):\n",
    "    return text.translate(str.maketrans('', '', string.punctuation))\n",
    "\n",
    "persuasive['discourse_text_processed'] = persuasive['discourse_text_processed'].apply(lambda text: remove_punctuation(text))\n",
    "\n",
    "STOPWORDS = list(stopwords.words('english')) + ['im']\n",
    "\n",
    "def remove_stopwords(text):\n",
    "    return \" \".join([word for word in str(text).split() if word not in STOPWORDS])\n",
    "\n",
    "persuasive['discourse_text_processed'] = persuasive['discourse_text_processed'].apply(lambda text: remove_stopwords(text))\n",
    "\n",
    "lemmatizer = WordNetLemmatizer()\n",
    "def lemmatize_words(text):\n",
    "    return \" \".join([lemmatizer.lemmatize(word) for word in text.split()])\n",
    "\n",
    "persuasive['discourse_text_processed'] = persuasive['discourse_text_processed'].apply(lambda text: lemmatize_words(text))\n",
    "\n",
    "def tokkenize(text):\n",
    "    return text.split()\n",
    "\n",
    "persuasive['discourse_text_words_tokenized'] = persuasive['discourse_text_processed'].apply(lambda text: tokkenize(text))"
   ]
  },
  {
   "cell_type": "markdown",
   "id": "1d4dc0d7",
   "metadata": {},
   "source": [
    "**I've decided to quickly check for the words that appear most often. It seems like no obviously useless words remain**"
   ]
  },
  {
   "cell_type": "code",
   "execution_count": 169,
   "id": "d749da4a",
   "metadata": {},
   "outputs": [
    {
     "data": {
      "text/plain": [
       "[('student', 15899),\n",
       " ('people', 10853),\n",
       " ('would', 10623),\n",
       " ('vote', 8730),\n",
       " ('school', 8369),\n",
       " ('electoral', 7076),\n",
       " ('college', 6136),\n",
       " ('car', 6067),\n",
       " ('one', 5869),\n",
       " ('like', 5779),\n",
       " ('get', 5777),\n",
       " ('time', 5552),\n",
       " ('could', 5484),\n",
       " ('state', 5366),\n",
       " ('make', 5198),\n",
       " ('help', 5125),\n",
       " ('think', 5091),\n",
       " ('also', 4786),\n",
       " ('president', 4607),\n",
       " ('venus', 4388)]"
      ]
     },
     "execution_count": 169,
     "metadata": {},
     "output_type": "execute_result"
    }
   ],
   "source": [
    "from collections import Counter\n",
    "\n",
    "cnt = Counter()\n",
    "for text in persuasive[\"discourse_text_words_tokenized\"].values:\n",
    "    for word in text:\n",
    "        cnt[word] += 1\n",
    "        \n",
    "cnt.most_common(20)"
   ]
  },
  {
   "cell_type": "markdown",
   "id": "6bf5beaf",
   "metadata": {},
   "source": [
    "**When it comes to the length of text, we can see some variation depending on the \"type\" of text.**"
   ]
  },
  {
   "cell_type": "code",
   "execution_count": 170,
   "id": "bf9dfdc0",
   "metadata": {},
   "outputs": [],
   "source": [
    "persuasive['entry_length'] = persuasive['discourse_text'].apply(len) "
   ]
  },
  {
   "cell_type": "code",
   "execution_count": 171,
   "id": "63469ddd",
   "metadata": {},
   "outputs": [
    {
     "data": {
      "text/plain": [
       "<AxesSubplot:ylabel='Frequency'>"
      ]
     },
     "execution_count": 171,
     "metadata": {},
     "output_type": "execute_result"
    },
    {
     "data": {
      "image/png": "[encoded data removed]",
      "text/plain": [
       "<Figure size 432x288 with 1 Axes>"
      ]
     },
     "metadata": {
      "needs_background": "light"
     },
     "output_type": "display_data"
    }
   ],
   "source": [
    " persuasive['entry_length'].plot(kind = 'hist' , bins = 50) \n"
   ]
  },
  {
   "cell_type": "code",
   "execution_count": 172,
   "id": "df5ea504",
   "metadata": {},
   "outputs": [
    {
     "data": {
      "text/plain": [
       "Text(0.5, 0.98, 'Length by grade')"
      ]
     },
     "execution_count": 172,
     "metadata": {},
     "output_type": "execute_result"
    },
    {
     "data": {
      "image/png": "[encoded data removed]",
      "text/plain": [
       "<Figure size 720x720 with 9 Axes>"
      ]
     },
     "metadata": {
      "needs_background": "light"
     },
     "output_type": "display_data"
    }
   ],
   "source": [
    "ax = persuasive.hist(column = 'entry_length', by = 'discourse_type', bins = 50 , figsize = (10,10));\n",
    "pl.suptitle('Length by grade') "
   ]
  },
  {
   "cell_type": "markdown",
   "id": "1a82a54a",
   "metadata": {},
   "source": [
    "**It seemed possible, that usage of longer, more complicated words might affect the final grade. To check for it I have decided to calculate the mean length of words used in each text.**"
   ]
  },
  {
   "cell_type": "code",
   "execution_count": 173,
   "id": "2d8fb8c0",
   "metadata": {},
   "outputs": [],
   "source": [
    "def average_word_length(text):\n",
    "    split_text = []\n",
    "    for word in text.split():\n",
    "        if word.isalpha():\n",
    "            split_text.append(word)\n",
    "            \n",
    "    amount = len(split_text)\n",
    "    length = 0\n",
    "    \n",
    "    for word in split_text:\n",
    "        length += len(word)\n",
    "    return length/amount if amount!=0 else 0\n",
    "\n",
    "persuasive['average_word_length'] = persuasive['discourse_text'].apply(lambda text: average_word_length(text))"
   ]
  },
  {
   "cell_type": "markdown",
   "id": "e94c0319",
   "metadata": {},
   "source": [
    "**Very well put. It seems that the function does not consider some 1 word texts as alphanumerical and tries to divide by 0 to get the mean. It's pretty obviously a mistake, as I doubt anybody would judge a 1 word reply to be \"adequate\". I have made every such instance to have a mean of 0.0 and removed them from the df.**"
   ]
  },
  {
   "cell_type": "code",
   "execution_count": 174,
   "id": "fbbd716a",
   "metadata": {},
   "outputs": [
    {
     "data": {
      "text/plain": [
       "'stress. '"
      ]
     },
     "execution_count": 174,
     "metadata": {},
     "output_type": "execute_result"
    }
   ],
   "source": [
    "persuasive['discourse_text'][11]"
   ]
  },
  {
   "cell_type": "code",
   "execution_count": 175,
   "id": "e1ec73b5",
   "metadata": {},
   "outputs": [
    {
     "data": {
      "text/html": [
       "<div>\n",
       "<style scoped>\n",
       "    .dataframe tbody tr th:only-of-type {\n",
       "        vertical-align: middle;\n",
       "    }\n",
       "\n",
       "    .dataframe tbody tr th {\n",
       "        vertical-align: top;\n",
       "    }\n",
       "\n",
       "    .dataframe thead th {\n",
       "        text-align: right;\n",
       "    }\n",
       "</style>\n",
       "<table border=\"1\" class=\"dataframe\">\n",
       "  <thead>\n",
       "    <tr style=\"text-align: right;\">\n",
       "      <th></th>\n",
       "      <th>discourse_id</th>\n",
       "      <th>essay_id</th>\n",
       "      <th>discourse_text</th>\n",
       "      <th>discourse_type</th>\n",
       "      <th>discourse_effectiveness</th>\n",
       "      <th>discourse_text_processed</th>\n",
       "      <th>discourse_text_words_tokenized</th>\n",
       "      <th>entry_length</th>\n",
       "      <th>average_word_length</th>\n",
       "    </tr>\n",
       "  </thead>\n",
       "  <tbody>\n",
       "    <tr>\n",
       "      <th>0</th>\n",
       "      <td>0013cc385424</td>\n",
       "      <td>007ACE74B050</td>\n",
       "      <td>Hi, i'm Isaac, i'm going to be writing about h...</td>\n",
       "      <td>Lead</td>\n",
       "      <td>Adequate</td>\n",
       "      <td>hi isaac going writing face mar natural landfo...</td>\n",
       "      <td>[hi, isaac, going, writing, face, mar, natural...</td>\n",
       "      <td>317</td>\n",
       "      <td>3.517241</td>\n",
       "    </tr>\n",
       "    <tr>\n",
       "      <th>1</th>\n",
       "      <td>9704a709b505</td>\n",
       "      <td>007ACE74B050</td>\n",
       "      <td>On my perspective, I think that the face is a ...</td>\n",
       "      <td>Position</td>\n",
       "      <td>Adequate</td>\n",
       "      <td>perspective think face natural landform dont t...</td>\n",
       "      <td>[perspective, think, face, natural, landform, ...</td>\n",
       "      <td>210</td>\n",
       "      <td>3.702703</td>\n",
       "    </tr>\n",
       "    <tr>\n",
       "      <th>2</th>\n",
       "      <td>c22adee811b6</td>\n",
       "      <td>007ACE74B050</td>\n",
       "      <td>I think that the face is a natural landform be...</td>\n",
       "      <td>Claim</td>\n",
       "      <td>Adequate</td>\n",
       "      <td>think face natural landform life mar descovere...</td>\n",
       "      <td>[think, face, natural, landform, life, mar, de...</td>\n",
       "      <td>105</td>\n",
       "      <td>4.000000</td>\n",
       "    </tr>\n",
       "    <tr>\n",
       "      <th>3</th>\n",
       "      <td>a10d361e54e4</td>\n",
       "      <td>007ACE74B050</td>\n",
       "      <td>If life was on Mars, we would know by now. The...</td>\n",
       "      <td>Evidence</td>\n",
       "      <td>Adequate</td>\n",
       "      <td>life mar would know reason think natural landf...</td>\n",
       "      <td>[life, mar, would, know, reason, think, natura...</td>\n",
       "      <td>362</td>\n",
       "      <td>3.622951</td>\n",
       "    </tr>\n",
       "    <tr>\n",
       "      <th>4</th>\n",
       "      <td>db3e453ec4e2</td>\n",
       "      <td>007ACE74B050</td>\n",
       "      <td>People thought that the face was formed by ali...</td>\n",
       "      <td>Counterclaim</td>\n",
       "      <td>Adequate</td>\n",
       "      <td>people thought face formed alieans thought lif...</td>\n",
       "      <td>[people, thought, face, formed, alieans, thoug...</td>\n",
       "      <td>101</td>\n",
       "      <td>4.588235</td>\n",
       "    </tr>\n",
       "    <tr>\n",
       "      <th>5</th>\n",
       "      <td>36a565e45db7</td>\n",
       "      <td>007ACE74B050</td>\n",
       "      <td>though some say that life on Mars does exist, ...</td>\n",
       "      <td>Rebuttal</td>\n",
       "      <td>Ineffective</td>\n",
       "      <td>though say life mar exist think life mar</td>\n",
       "      <td>[though, say, life, mar, exist, think, life, mar]</td>\n",
       "      <td>85</td>\n",
       "      <td>3.500000</td>\n",
       "    </tr>\n",
       "    <tr>\n",
       "      <th>6</th>\n",
       "      <td>fb65fe816ba3</td>\n",
       "      <td>007ACE74B050</td>\n",
       "      <td>It says in paragraph 7, on April 5, 1998, Mars...</td>\n",
       "      <td>Evidence</td>\n",
       "      <td>Adequate</td>\n",
       "      <td>say paragraph 7 april 5 1998 mar global survey...</td>\n",
       "      <td>[say, paragraph, 7, april, 5, 1998, mar, globa...</td>\n",
       "      <td>201</td>\n",
       "      <td>4.322581</td>\n",
       "    </tr>\n",
       "    <tr>\n",
       "      <th>7</th>\n",
       "      <td>4e472e2584fa</td>\n",
       "      <td>007ACE74B050</td>\n",
       "      <td>Everyone who thought it was made by alieans ev...</td>\n",
       "      <td>Counterclaim</td>\n",
       "      <td>Adequate</td>\n",
       "      <td>everyone thought made alieans even though wasn...</td>\n",
       "      <td>[everyone, thought, made, alieans, even, thoug...</td>\n",
       "      <td>193</td>\n",
       "      <td>4.333333</td>\n",
       "    </tr>\n",
       "    <tr>\n",
       "      <th>8</th>\n",
       "      <td>28a94d3ee425</td>\n",
       "      <td>007ACE74B050</td>\n",
       "      <td>Though people were not satified about how the ...</td>\n",
       "      <td>Concluding Statement</td>\n",
       "      <td>Adequate</td>\n",
       "      <td>though people satified landform natural landfo...</td>\n",
       "      <td>[though, people, satified, landform, natural, ...</td>\n",
       "      <td>225</td>\n",
       "      <td>3.891892</td>\n",
       "    </tr>\n",
       "    <tr>\n",
       "      <th>9</th>\n",
       "      <td>d226f06362f5</td>\n",
       "      <td>00944C693682</td>\n",
       "      <td>Limiting the usage of cars has personal and pr...</td>\n",
       "      <td>Lead</td>\n",
       "      <td>Effective</td>\n",
       "      <td>limiting usage car personal professional suppo...</td>\n",
       "      <td>[limiting, usage, car, personal, professional,...</td>\n",
       "      <td>668</td>\n",
       "      <td>4.252427</td>\n",
       "    </tr>\n",
       "    <tr>\n",
       "      <th>10</th>\n",
       "      <td>de347c859ab6</td>\n",
       "      <td>00944C693682</td>\n",
       "      <td>With so many things in this world that few peo...</td>\n",
       "      <td>Position</td>\n",
       "      <td>Effective</td>\n",
       "      <td>many thing world people agree nice change see ...</td>\n",
       "      <td>[many, thing, world, people, agree, nice, chan...</td>\n",
       "      <td>206</td>\n",
       "      <td>3.800000</td>\n",
       "    </tr>\n",
       "    <tr>\n",
       "      <th>12</th>\n",
       "      <td>a6fcdd9110ab</td>\n",
       "      <td>00944C693682</td>\n",
       "      <td>It is no secret that morning traffic jams and ...</td>\n",
       "      <td>Evidence</td>\n",
       "      <td>Effective</td>\n",
       "      <td>secret morning traffic jam 5oclock traffic oft...</td>\n",
       "      <td>[secret, morning, traffic, jam, 5oclock, traff...</td>\n",
       "      <td>969</td>\n",
       "      <td>4.201439</td>\n",
       "    </tr>\n",
       "  </tbody>\n",
       "</table>\n",
       "</div>"
      ],
      "text/plain": [
       "    discourse_id      essay_id  \\\n",
       "0   0013cc385424  007ACE74B050   \n",
       "1   9704a709b505  007ACE74B050   \n",
       "2   c22adee811b6  007ACE74B050   \n",
       "3   a10d361e54e4  007ACE74B050   \n",
       "4   db3e453ec4e2  007ACE74B050   \n",
       "5   36a565e45db7  007ACE74B050   \n",
       "6   fb65fe816ba3  007ACE74B050   \n",
       "7   4e472e2584fa  007ACE74B050   \n",
       "8   28a94d3ee425  007ACE74B050   \n",
       "9   d226f06362f5  00944C693682   \n",
       "10  de347c859ab6  00944C693682   \n",
       "12  a6fcdd9110ab  00944C693682   \n",
       "\n",
       "                                       discourse_text        discourse_type  \\\n",
       "0   Hi, i'm Isaac, i'm going to be writing about h...                  Lead   \n",
       "1   On my perspective, I think that the face is a ...              Position   \n",
       "2   I think that the face is a natural landform be...                 Claim   \n",
       "3   If life was on Mars, we would know by now. The...              Evidence   \n",
       "4   People thought that the face was formed by ali...          Counterclaim   \n",
       "5   though some say that life on Mars does exist, ...              Rebuttal   \n",
       "6   It says in paragraph 7, on April 5, 1998, Mars...              Evidence   \n",
       "7   Everyone who thought it was made by alieans ev...          Counterclaim   \n",
       "8   Though people were not satified about how the ...  Concluding Statement   \n",
       "9   Limiting the usage of cars has personal and pr...                  Lead   \n",
       "10  With so many things in this world that few peo...              Position   \n",
       "12  It is no secret that morning traffic jams and ...              Evidence   \n",
       "\n",
       "   discourse_effectiveness                           discourse_text_processed  \\\n",
       "0                 Adequate  hi isaac going writing face mar natural landfo...   \n",
       "1                 Adequate  perspective think face natural landform dont t...   \n",
       "2                 Adequate  think face natural landform life mar descovere...   \n",
       "3                 Adequate  life mar would know reason think natural landf...   \n",
       "4                 Adequate  people thought face formed alieans thought lif...   \n",
       "5              Ineffective           though say life mar exist think life mar   \n",
       "6                 Adequate  say paragraph 7 april 5 1998 mar global survey...   \n",
       "7                 Adequate  everyone thought made alieans even though wasn...   \n",
       "8                 Adequate  though people satified landform natural landfo...   \n",
       "9                Effective  limiting usage car personal professional suppo...   \n",
       "10               Effective  many thing world people agree nice change see ...   \n",
       "12               Effective  secret morning traffic jam 5oclock traffic oft...   \n",
       "\n",
       "                       discourse_text_words_tokenized  entry_length  \\\n",
       "0   [hi, isaac, going, writing, face, mar, natural...           317   \n",
       "1   [perspective, think, face, natural, landform, ...           210   \n",
       "2   [think, face, natural, landform, life, mar, de...           105   \n",
       "3   [life, mar, would, know, reason, think, natura...           362   \n",
       "4   [people, thought, face, formed, alieans, thoug...           101   \n",
       "5   [though, say, life, mar, exist, think, life, mar]            85   \n",
       "6   [say, paragraph, 7, april, 5, 1998, mar, globa...           201   \n",
       "7   [everyone, thought, made, alieans, even, thoug...           193   \n",
       "8   [though, people, satified, landform, natural, ...           225   \n",
       "9   [limiting, usage, car, personal, professional,...           668   \n",
       "10  [many, thing, world, people, agree, nice, chan...           206   \n",
       "12  [secret, morning, traffic, jam, 5oclock, traff...           969   \n",
       "\n",
       "    average_word_length  \n",
       "0              3.517241  \n",
       "1              3.702703  \n",
       "2              4.000000  \n",
       "3              3.622951  \n",
       "4              4.588235  \n",
       "5              3.500000  \n",
       "6              4.322581  \n",
       "7              4.333333  \n",
       "8              3.891892  \n",
       "9              4.252427  \n",
       "10             3.800000  \n",
       "12             4.201439  "
      ]
     },
     "execution_count": 175,
     "metadata": {},
     "output_type": "execute_result"
    }
   ],
   "source": [
    "persuasive.drop(persuasive[persuasive['average_word_length'] == 0].index, inplace = True)\n",
    "persuasive.head(12)"
   ]
  },
  {
   "cell_type": "markdown",
   "id": "cf270eda",
   "metadata": {},
   "source": [
    "**It seems that the average word length is slightly higher than 4 and has no significant outliers across all three grades. I don't that there is anything useful to be found here.**"
   ]
  },
  {
   "cell_type": "code",
   "execution_count": 176,
   "id": "1766b9f9",
   "metadata": {
    "scrolled": true
   },
   "outputs": [
    {
     "data": {
      "text/plain": [
       "<AxesSubplot:ylabel='Frequency'>"
      ]
     },
     "execution_count": 176,
     "metadata": {},
     "output_type": "execute_result"
    },
    {
     "data": {
      "image/png": "[encoded data removed]",
      "text/plain": [
       "<Figure size 432x288 with 1 Axes>"
      ]
     },
     "metadata": {
      "needs_background": "light"
     },
     "output_type": "display_data"
    }
   ],
   "source": [
    "persuasive['average_word_length'].plot(kind = 'hist' , bins = 50) "
   ]
  },
  {
   "cell_type": "code",
   "execution_count": 177,
   "id": "04dc35b4",
   "metadata": {},
   "outputs": [
    {
     "data": {
      "text/plain": [
       "Text(0.5, 0.98, 'Length by word length')"
      ]
     },
     "execution_count": 177,
     "metadata": {},
     "output_type": "execute_result"
    },
    {
     "data": {
      "image/png": "[encoded data removed]",
      "text/plain": [
       "<Figure size 720x720 with 4 Axes>"
      ]
     },
     "metadata": {
      "needs_background": "light"
     },
     "output_type": "display_data"
    }
   ],
   "source": [
    "ax = persuasive.hist(column = 'average_word_length', by = 'discourse_effectiveness', bins = 50 , figsize = (10,10));\n",
    "pl.suptitle('Length by word length') "
   ]
  },
  {
   "cell_type": "markdown",
   "id": "2391f325",
   "metadata": {},
   "source": [
    "**The first model I will try is Naive Bayes, after transforming the text into usable vectors. The accuracy is not great, but I am very happy to have beaten random chance on the first try. It seems that I need to look for some more variables to train the model on**"
   ]
  },
  {
   "cell_type": "code",
   "execution_count": 199,
   "id": "51cfde0e",
   "metadata": {},
   "outputs": [],
   "source": [
    "V = vectorizer.fit_transform(persuasive['discourse_text_processed'])"
   ]
  },
  {
   "cell_type": "code",
   "execution_count": 209,
   "id": "b504d51b",
   "metadata": {},
   "outputs": [
    {
     "ename": "TypeError",
     "evalue": "'tuple' object is not callable",
     "output_type": "error",
     "traceback": [
      "\u001b[1;31m---------------------------------------------------------------------------\u001b[0m",
      "\u001b[1;31mTypeError\u001b[0m                                 Traceback (most recent call last)",
      "Input \u001b[1;32mIn [209]\u001b[0m, in \u001b[0;36m<cell line: 2>\u001b[1;34m()\u001b[0m\n\u001b[0;32m      1\u001b[0m T \u001b[38;5;241m=\u001b[39m transformer\u001b[38;5;241m.\u001b[39mfit_transform(V)\n\u001b[1;32m----> 2\u001b[0m \u001b[43mT\u001b[49m\u001b[38;5;241;43m.\u001b[39;49m\u001b[43mshape\u001b[49m\u001b[43m(\u001b[49m\u001b[43m)\u001b[49m\n",
      "\u001b[1;31mTypeError\u001b[0m: 'tuple' object is not callable"
     ]
    }
   ],
   "source": [
    "T = transformer.fit_transform(V)"
   ]
  },
  {
   "cell_type": "code",
   "execution_count": 208,
   "id": "e465221f",
   "metadata": {},
   "outputs": [],
   "source": [
    "X=T\n",
    "y=persuasive['discourse_effectiveness']\n",
    "\n",
    "X_train, X_test, y_train, y_test = train_test_split(X, y, random_state=1, test_size=0.3)"
   ]
  },
  {
   "cell_type": "code",
   "execution_count": 205,
   "id": "1105f963",
   "metadata": {},
   "outputs": [
    {
     "data": {
      "text/plain": [
       "MultinomialNB()"
      ]
     },
     "execution_count": 205,
     "metadata": {},
     "output_type": "execute_result"
    }
   ],
   "source": [
    "classifier.fit(X_train, y_train)"
   ]
  },
  {
   "cell_type": "code",
   "execution_count": 206,
   "id": "f3a9de16",
   "metadata": {},
   "outputs": [
    {
     "data": {
      "text/plain": [
       "0.6207459842090934"
      ]
     },
     "execution_count": 206,
     "metadata": {},
     "output_type": "execute_result"
    }
   ],
   "source": [
    "classifier.score(X_test, y_test) "
   ]
  },
  {
   "cell_type": "code",
   "execution_count": 133,
   "id": "5b737a01",
   "metadata": {},
   "outputs": [
    {
     "data": {
      "text/html": [
       "<div>\n",
       "<style scoped>\n",
       "    .dataframe tbody tr th:only-of-type {\n",
       "        vertical-align: middle;\n",
       "    }\n",
       "\n",
       "    .dataframe tbody tr th {\n",
       "        vertical-align: top;\n",
       "    }\n",
       "\n",
       "    .dataframe thead th {\n",
       "        text-align: right;\n",
       "    }\n",
       "</style>\n",
       "<table border=\"1\" class=\"dataframe\">\n",
       "  <thead>\n",
       "    <tr style=\"text-align: right;\">\n",
       "      <th></th>\n",
       "      <th>discourse_id</th>\n",
       "      <th>essay_id</th>\n",
       "      <th>discourse_text</th>\n",
       "      <th>discourse_type</th>\n",
       "    </tr>\n",
       "  </thead>\n",
       "  <tbody>\n",
       "    <tr>\n",
       "      <th>0</th>\n",
       "      <td>a261b6e14276</td>\n",
       "      <td>D72CB1C11673</td>\n",
       "      <td>Making choices in life can be very difficult. ...</td>\n",
       "      <td>Lead</td>\n",
       "    </tr>\n",
       "    <tr>\n",
       "      <th>1</th>\n",
       "      <td>5a88900e7dc1</td>\n",
       "      <td>D72CB1C11673</td>\n",
       "      <td>Seeking multiple opinions can help a person ma...</td>\n",
       "      <td>Position</td>\n",
       "    </tr>\n",
       "    <tr>\n",
       "      <th>2</th>\n",
       "      <td>9790d835736b</td>\n",
       "      <td>D72CB1C11673</td>\n",
       "      <td>it can decrease stress levels</td>\n",
       "      <td>Claim</td>\n",
       "    </tr>\n",
       "    <tr>\n",
       "      <th>3</th>\n",
       "      <td>75ce6d68b67b</td>\n",
       "      <td>D72CB1C11673</td>\n",
       "      <td>a great chance to learn something new</td>\n",
       "      <td>Claim</td>\n",
       "    </tr>\n",
       "    <tr>\n",
       "      <th>4</th>\n",
       "      <td>93578d946723</td>\n",
       "      <td>D72CB1C11673</td>\n",
       "      <td>can be very helpful and beneficial.</td>\n",
       "      <td>Claim</td>\n",
       "    </tr>\n",
       "  </tbody>\n",
       "</table>\n",
       "</div>"
      ],
      "text/plain": [
       "   discourse_id      essay_id  \\\n",
       "0  a261b6e14276  D72CB1C11673   \n",
       "1  5a88900e7dc1  D72CB1C11673   \n",
       "2  9790d835736b  D72CB1C11673   \n",
       "3  75ce6d68b67b  D72CB1C11673   \n",
       "4  93578d946723  D72CB1C11673   \n",
       "\n",
       "                                      discourse_text discourse_type  \n",
       "0  Making choices in life can be very difficult. ...           Lead  \n",
       "1  Seeking multiple opinions can help a person ma...       Position  \n",
       "2                     it can decrease stress levels           Claim  \n",
       "3             a great chance to learn something new           Claim  \n",
       "4               can be very helpful and beneficial.           Claim  "
      ]
     },
     "execution_count": 133,
     "metadata": {},
     "output_type": "execute_result"
    }
   ],
   "source": [
    "test_data = pd.read_csv('~/.kaggle/feedback-prize-effectiveness/test.csv')\n",
    "test_data.head()"
   ]
  }
 ],
 "metadata": {
  "kernelspec": {
   "display_name": "Python 3 (ipykernel)",
   "language": "python",
   "name": "python3"
  },
  "language_info": {
   "codemirror_mode": {
    "name": "ipython",
    "version": 3
   },
   "file_extension": ".py",
   "mimetype": "text/x-python",
   "name": "python",
   "nbconvert_exporter": "python",
   "pygments_lexer": "ipython3",
   "version": "3.9.12"
  }
 },
 "nbformat": 4,
 "nbformat_minor": 5
}
